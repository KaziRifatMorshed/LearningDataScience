{
 "cells": [
  {
   "cell_type": "code",
   "id": "initial_id",
   "metadata": {
    "collapsed": true,
    "jupyter": {
     "outputs_hidden": true
    },
    "ExecuteTime": {
     "end_time": "2025-03-12T18:24:39.757574Z",
     "start_time": "2025-03-12T18:24:39.753426Z"
    }
   },
   "source": [
    "print(\"test\")"
   ],
   "outputs": [
    {
     "name": "stdout",
     "output_type": "stream",
     "text": [
      "test\n"
     ]
    }
   ],
   "execution_count": 1
  },
  {
   "cell_type": "code",
   "id": "fa17d2cb968e6459",
   "metadata": {
    "ExecuteTime": {
     "end_time": "2025-03-12T18:24:39.941003Z",
     "start_time": "2025-03-12T18:24:39.939008Z"
    }
   },
   "source": [
    "print(\"Hello World\")"
   ],
   "outputs": [
    {
     "name": "stdout",
     "output_type": "stream",
     "text": [
      "Hello World\n"
     ]
    }
   ],
   "execution_count": 2
  },
  {
   "cell_type": "code",
   "id": "f4eb9cc77dd89cde",
   "metadata": {
    "ExecuteTime": {
     "end_time": "2025-03-12T18:24:39.989577Z",
     "start_time": "2025-03-12T18:24:39.987364Z"
    }
   },
   "source": [
    "print(\"Hello World of\")"
   ],
   "outputs": [
    {
     "name": "stdout",
     "output_type": "stream",
     "text": [
      "Hello World of\n"
     ]
    }
   ],
   "execution_count": 3
  },
  {
   "cell_type": "markdown",
   "id": "8f866e95f31d5ba8",
   "metadata": {},
   "source": [
    "Helloooo MarkDownnnnnn"
   ]
  },
  {
   "cell_type": "code",
   "id": "9842db3273cc8c06",
   "metadata": {
    "ExecuteTime": {
     "end_time": "2025-03-12T18:24:40.049072Z",
     "start_time": "2025-03-12T18:24:40.047041Z"
    }
   },
   "source": [
    "print(\"Hello World of Python\")"
   ],
   "outputs": [
    {
     "name": "stdout",
     "output_type": "stream",
     "text": [
      "Hello World of Python\n"
     ]
    }
   ],
   "execution_count": 4
  },
  {
   "cell_type": "code",
   "id": "101174e695b7a56e",
   "metadata": {
    "ExecuteTime": {
     "end_time": "2025-03-12T18:24:41.849265Z",
     "start_time": "2025-03-12T18:24:40.117595Z"
    }
   },
   "source": "!",
   "outputs": [
    {
     "name": "stdout",
     "output_type": "stream",
     "text": [
      "\u001B[?25l\u001B[?7l\u001B[0m\u001B[36m\u001B[1m⠄⠄⠄⠄⠄⠄⠄⠄⠄⠄⠄⠄⠄⠄⠄⠄⠄⠄⠄\u001B[0m\u001B[36m\u001B[1m⢰⡆\u001B[0m\u001B[36m\u001B[1m⠄⠄⠄⠄⠄⠄⠄⠄⠄⠄⠄⠄⠄⠄⠄⠄⠄⠄⠄\r\n",
      "\u001B[0m\u001B[36m\u001B[1m⠄⠄⠄⠄⠄⠄⠄⠄⠄⠄⠄⠄⠄⠄⠄⠄⠄⠄\u001B[0m\u001B[36m\u001B[1m⢠⣿⣿⡄\u001B[0m\u001B[36m\u001B[1m⠄⠄⠄⠄⠄⠄⠄⠄⠄⠄⠄⠄⠄⠄⠄⠄⠄⠄\r\n",
      "\u001B[0m\u001B[36m\u001B[1m⠄⠄⠄⠄⠄⠄⠄⠄⠄⠄⠄⠄⠄⠄⠄⠄⠄\u001B[0m\u001B[36m\u001B[1m⢀⣾⣿⣿⣿⡀\u001B[0m\u001B[36m\u001B[1m⠄⠄⠄⠄⠄⠄⠄⠄⠄⠄⠄⠄⠄⠄⠄⠄⠄\r\n",
      "\u001B[0m\u001B[36m\u001B[1m⠄⠄⠄⠄⠄⠄⠄⠄⠄⠄⠄⠄⠄⠄⠄⠄⠄\u001B[0m\u001B[36m\u001B[1m⣼⣿⣿⣿⣿⣷⡀\u001B[0m\u001B[36m\u001B[1m⠄⠄⠄⠄⠄⠄⠄⠄⠄⠄⠄⠄⠄⠄⠄⠄\r\n",
      "\u001B[0m\u001B[36m\u001B[1m⠄⠄⠄⠄⠄⠄⠄⠄⠄⠄⠄⠄⠄⠄⠄⠄\u001B[0m\u001B[36m\u001B[1m⣼⣿⣿⣿⣿⣿⣿⣷\u001B[0m\u001B[36m\u001B[1m⠄⠄⠄⠄⠄⠄⠄⠄⠄⠄⠄⠄⠄⠄⠄⠄\r\n",
      "\u001B[0m\u001B[36m\u001B[1m⠄⠄⠄⠄⠄⠄⠄⠄⠄⠄⠄⠄⠄⠄⠄\u001B[0m\u001B[36m\u001B[1m⢼⣿⣿⣿⣿⣿⣿⣿⣿⣧\u001B[0m\u001B[36m\u001B[1m⠄⠄⠄⠄⠄⠄⠄⠄⠄⠄⠄⠄⠄⠄⠄\r\n",
      "\u001B[0m\u001B[36m\u001B[1m⠄⠄⠄⠄⠄⠄⠄⠄⠄⠄⠄⠄⠄⠄\u001B[0m\u001B[36m\u001B[1m⣰⣤⣈⠻⢿⣿⣿⣿⣿⣿⣿⣧\u001B[0m\u001B[36m\u001B[1m⠄⠄⠄⠄⠄⠄⠄⠄⠄⠄⠄⠄⠄⠄\r\n",
      "\u001B[0m\u001B[36m\u001B[1m⠄⠄⠄⠄⠄⠄⠄⠄⠄⠄⠄⠄⠄\u001B[0m\u001B[36m\u001B[1m⣰⣿⣿⣿⣿⣮⣿⣿⣿⣿⣿⣿⣿⣧\u001B[0m\u001B[36m\u001B[1m⠄⠄⠄⠄⠄⠄⠄⠄⠄⠄⠄⠄⠄\r\n",
      "\u001B[0m\u001B[36m\u001B[1m⠄⠄⠄⠄⠄⠄⠄⠄⠄⠄⠄⠄\u001B[0m\u001B[36m\u001B[1m⣰⣿⣿⣿⣿⣿⣿⣿⣿⣿⣿⣿⣿⣿⣿⣧\u001B[0m\u001B[36m\u001B[1m⠄⠄⠄⠄⠄⠄⠄⠄⠄⠄⠄⠄\r\n",
      "\u001B[0m\u001B[36m\u001B[1m⠄⠄⠄⠄⠄⠄⠄⠄⠄⠄⠄\u001B[0m\u001B[36m\u001B[1m⣰⣿⣿⣿⣿⣿⣿⣿⣿⣿⣿⣿⣿⣿⣿⣿⣿⣧\u001B[0m\u001B[36m\u001B[1m⠄⠄⠄⠄⠄⠄⠄⠄⠄⠄⠄\r\n",
      "\u001B[0m\u001B[36m\u001B[1m⠄⠄⠄⠄⠄⠄⠄⠄⠄⠄\u001B[0m\u001B[36m\u001B[1m⣼⣿⣿⣿⣿⣿⣿⣿⣿⣿⣿⣿⣿⣿⣿⣿⣿⣿⣿⣧\u001B[0m\u001B[36m\u001B[1m⠄⠄⠄⠄⠄⠄⠄⠄⠄⠄\r\n",
      "\u001B[0m\u001B[36m\u001B[1m⠄⠄⠄⠄⠄⠄⠄⠄⠄\u001B[0m\u001B[36m\u001B[1m⣼⣿⣿⣿⣿⣿⡿⣿⣿⡟\u001B[0m\u001B[36m\u001B[1m⠄⠄\u001B[0m\u001B[36m\u001B[1m⠸⣿⣿⡿⣿⣿⣿⣿⣿⣷⡀\u001B[0m\u001B[36m\u001B[1m⠄⠄⠄⠄⠄⠄⠄⠄\r\n",
      "\u001B[0m\u001B[36m\u001B[1m⠄⠄⠄⠄⠄⠄⠄⠄\u001B[0m\u001B[36m\u001B[1m⣼⣿⣿⣿⣿⣿⡏\u001B[0m\u001B[36m\u001B[1m⠄⠄⠄⠄⠄⠄⠄⠄⠄⠄\u001B[0m\u001B[36m\u001B[1m⠈⣿⣿⣿⣿⣿⣷⡀\u001B[0m\u001B[36m\u001B[1m⠄⠄⠄⠄⠄⠄⠄\r\n",
      "\u001B[0m\u001B[36m\u001B[1m⠄⠄⠄⠄⠄⠄\u001B[0m\u001B[36m\u001B[1m⢀⣼⣿⣿⣿⣿⣿⣿⡗\u001B[0m\u001B[36m\u001B[1m⠄⠄⠄\u001B[0m\u001B[36m\u001B[1m⢀⣠⣤⣀\u001B[0m\u001B[36m\u001B[1m⠄⠄⠄\u001B[0m\u001B[36m\u001B[1m⠸⣿⣿⣿⣿⣿⣿⣷⡀\u001B[0m\u001B[36m\u001B[1m⠄⠄⠄⠄⠄⠄\r\n",
      "\u001B[0m\u001B[36m\u001B[1m⠄⠄⠄⠄⠄\u001B[0m\u001B[36m\u001B[1m⢀⣾⣿⣿⣿⣿⣿⡏⠁\u001B[0m\u001B[36m\u001B[1m⠄⠄⠄\u001B[0m\u001B[36m\u001B[1m⢠⣿⣿⣿⣿⡇\u001B[0m\u001B[36m\u001B[1m⠄⠄⠄⠄\u001B[0m\u001B[36m\u001B[1m⢙⣿⣿⣻⠿⣿⣷⡀\u001B[0m\u001B[36m\u001B[1m⠄⠄⠄⠄⠄\r\n",
      "\u001B[0m\u001B[36m\u001B[1m⠄⠄⠄⠄\u001B[0m\u001B[36m\u001B[1m⢀⣾⣿⣿⣿⣿⣿⣿⣷⣤⡀\u001B[0m\u001B[36m\u001B[1m⠄⠄⠄\u001B[0m\u001B[36m\u001B[1m⠻⣿⣿⡿⠃\u001B[0m\u001B[36m\u001B[1m⠄⠄⠄\u001B[0m\u001B[36m\u001B[1m⢀⣼⣿⣿⣿⣿⣦⣌⠙⠄\u001B[0m\u001B[36m\u001B[1m⠄⠄⠄⠄\r\n",
      "\u001B[0m\u001B[36m\u001B[1m⠄⠄⠄\u001B[0m\u001B[36m\u001B[1m⢠⣾⣿⣿⣿⣿⣿⣿⣿⣿⣿⠏\u001B[0m\u001B[36m\u001B[1m⠄⠄⠄⠄⠄⠄⠄⠄⠄⠄⠄\u001B[0m\u001B[36m\u001B[1m⢿⣿⣿⣿⣿⣿⣿⣿⣿⣦⡀\u001B[0m\u001B[36m\u001B[1m⠄⠄⠄\r\n",
      "\u001B[0m\u001B[36m\u001B[1m⠄⠄\u001B[0m\u001B[36m\u001B[1m⢠⣿⣿⣿⣿⣿⣿⣿⡿⠟⠋⠁\u001B[0m\u001B[36m\u001B[1m⠄⠄⠄⠄⠄⠄⠄⠄⠄⠄⠄⠄⠄\u001B[0m\u001B[36m\u001B[1m⠙⠻⣿⣿⣿⣿⣿⣿⣿⣿⡄\u001B[0m\u001B[36m\u001B[1m⠄⠄\r\n",
      "\u001B[0m\u001B[36m\u001B[1m⠄\u001B[0m\u001B[36m\u001B[1m⣠⣿⣿⣿⣿⠿⠛⠋⠁\u001B[0m\u001B[36m\u001B[1m⠄⠄⠄⠄⠄⠄⠄⠄⠄⠄⠄⠄⠄⠄⠄⠄⠄⠄⠄⠄\u001B[0m\u001B[36m\u001B[1m⠉⠙⠻⢿⣿⣿⣿⣿⣆\u001B[0m\u001B[36m\u001B[1m⠄\r\n",
      "\u001B[0m\u001B[36m\u001B[1m⡰⠟⠛⠉⠁\u001B[0m\u001B[36m\u001B[1m⠄⠄⠄⠄⠄⠄⠄⠄⠄⠄⠄⠄⠄⠄⠄⠄⠄⠄⠄⠄⠄⠄⠄⠄⠄⠄⠄⠄⠄⠄\u001B[0m\u001B[36m\u001B[1m⠉⠙⠛⠿⢆\u001B[0m\r\n",
      "\u001B[20A\u001B[9999999D\u001B[42C\u001B[0m\u001B[1m\u001B[36m\u001B[1mnoobcoder_rtx\u001B[0m@\u001B[36m\u001B[1mnoobcoder-rtx3060\u001B[0m \r\n",
      "\u001B[42C\u001B[0m\u001B[0m \r\n",
      "\u001B[42C\u001B[0m\u001B[31m\u001B[1m\u001B[36m\u001B[1m \u001B[0m\u001B[0m ·\u001B[0m Archcraft x86_64\u001B[0m \r\n",
      "\u001B[42C\u001B[0m\u001B[31m\u001B[1m\u001B[31m\u001B[1m \u001B[0m\u001B[0m ·\u001B[0m Micro-Star International Co., Ltd. B450M-A PRO MAX (MS-7C52)\u001B[0m \r\n",
      "\u001B[42C\u001B[0m\u001B[31m\u001B[1m\u001B[32m\u001B[1m \u001B[0m\u001B[0m ·\u001B[0m 6.13.3-arch1-1\u001B[0m \r\n",
      "\u001B[42C\u001B[0m\u001B[31m\u001B[1m\u001B[33m\u001B[1m \u001B[0m\u001B[0m ·\u001B[0m 2 mins\u001B[0m \r\n",
      "\u001B[42C\u001B[0m\u001B[31m\u001B[1m\u001B[34m\u001B[1m \u001B[0m\u001B[0m ·\u001B[0m 2485 (pacman)\u001B[0m \r\n",
      "\u001B[42C\u001B[0m\u001B[31m\u001B[1m\u001B[35m\u001B[1m \u001B[0m\u001B[0m ·\u001B[0m fish 3.7.1\u001B[0m \r\n",
      "\u001B[42C\u001B[0m\u001B[31m\u001B[1m\u001B[36m\u001B[1m \u001B[0m\u001B[0m ·\u001B[0m 1920x1080\u001B[0m \r\n",
      "\u001B[42C\u001B[0m\u001B[31m\u001B[1m\u001B[31m\u001B[1m \u001B[0m\u001B[0m ·\u001B[0m KWin\u001B[0m \r\n",
      "\u001B[42C\u001B[0m\u001B[31m\u001B[1m\u001B[33m\u001B[1m \u001B[0m\u001B[0m ·\u001B[0m [Plasma], Dracula [GTK2/3]\u001B[0m \r\n",
      "\u001B[42C\u001B[0m\u001B[31m\u001B[1m\u001B[34m\u001B[1m \u001B[0m\u001B[0m ·\u001B[0m Win11-Dark [Plasma], Win11-Dark [GTK2/3]\u001B[0m \r\n",
      "\u001B[42C\u001B[0m\u001B[31m\u001B[1m\u001B[36m\u001B[1m \u001B[0m\u001B[0m ·\u001B[0m AMD Ryzen 5 5600G with Radeon Graphics (12) @ 4.464GHz\u001B[0m \r\n",
      "\u001B[42C\u001B[0m\u001B[31m\u001B[1m\u001B[31m\u001B[1m \u001B[0m\u001B[0m ·\u001B[0m NVIDIA GeForce RTX 3060\u001B[0m \r\n",
      "\u001B[42C\u001B[0m\u001B[31m\u001B[1m\u001B[32m\u001B[1m \u001B[0m\u001B[0m ·\u001B[0m 5776MiB / 15883MiB\u001B[0m \r\n",
      "\r\n",
      "\u001B[42C\u001B[30m\u001B[40m   \u001B[31m\u001B[41m   \u001B[32m\u001B[42m   \u001B[33m\u001B[43m   \u001B[34m\u001B[44m   \u001B[35m\u001B[45m   \u001B[36m\u001B[46m   \u001B[37m\u001B[47m   \u001B[m\r\n",
      "\u001B[42C\u001B[38;5;8m\u001B[48;5;8m   \u001B[38;5;9m\u001B[48;5;9m   \u001B[38;5;10m\u001B[48;5;10m   \u001B[38;5;11m\u001B[48;5;11m   \u001B[38;5;12m\u001B[48;5;12m   \u001B[38;5;13m\u001B[48;5;13m   \u001B[38;5;14m\u001B[48;5;14m   \u001B[38;5;15m\u001B[48;5;15m   \u001B[m\r\n",
      "\r\n",
      "\r\n",
      "\r\n",
      "\u001B[?25h\u001B[?7h"
     ]
    }
   ],
   "execution_count": 5
  }
 ],
 "metadata": {
  "kernelspec": {
   "display_name": "Python [conda env:base] *",
   "language": "python",
   "name": "conda-base-py"
  },
  "language_info": {
   "codemirror_mode": {
    "name": "ipython",
    "version": 3
   },
   "file_extension": ".py",
   "mimetype": "text/x-python",
   "name": "python",
   "nbconvert_exporter": "python",
   "pygments_lexer": "ipython3",
   "version": "3.11.11"
  }
 },
 "nbformat": 4,
 "nbformat_minor": 5
}
