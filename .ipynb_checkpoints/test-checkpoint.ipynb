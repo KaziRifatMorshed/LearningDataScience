{
 "cells": [
  {
   "cell_type": "code",
   "id": "initial_id",
   "metadata": {
    "collapsed": true,
    "jupyter": {
     "is_executing": true
    }
   },
   "source": "print(\"test\")",
   "outputs": [],
   "execution_count": null
  },
  {
   "metadata": {
    "ExecuteTime": {
     "end_time": "2025-03-11T18:42:58.601358Z",
     "start_time": "2025-03-11T18:42:58.598735Z"
    }
   },
   "cell_type": "code",
   "source": "print(\"Hello World\")",
   "id": "fa17d2cb968e6459",
   "outputs": [
    {
     "name": "stdout",
     "output_type": "stream",
     "text": [
      "Hello World\n"
     ]
    }
   ],
   "execution_count": 2
  },
  {
   "metadata": {
    "ExecuteTime": {
     "end_time": "2025-03-11T18:44:58.189359Z",
     "start_time": "2025-03-11T18:44:57.037530Z"
    }
   },
   "cell_type": "code",
   "source": "print(\"Hello World of\")",
   "id": "f4eb9cc77dd89cde",
   "outputs": [
    {
     "name": "stdout",
     "output_type": "stream",
     "text": [
      "noobcoder_rtx\r\n"
     ]
    }
   ],
   "execution_count": 1
  },
  {
   "metadata": {},
   "cell_type": "markdown",
   "source": "Helloooo MarkDownnnnnn",
   "id": "8f866e95f31d5ba8"
  },
  {
   "metadata": {
    "jupyter": {
     "is_executing": true
    }
   },
   "cell_type": "code",
   "source": "print(\"Hello World of Python\")",
   "id": "9842db3273cc8c06",
   "outputs": [],
   "execution_count": null
  },
  {
   "metadata": {
    "jupyter": {
     "is_executing": true
    }
   },
   "cell_type": "code",
   "source": "!neofetch",
   "id": "101174e695b7a56e",
   "outputs": [],
   "execution_count": null
  }
 ],
 "metadata": {
  "kernelspec": {
   "display_name": "Python [conda env:base] *",
   "language": "python",
   "name": "conda-base-py"
  },
  "language_info": {
   "codemirror_mode": {
    "name": "ipython",
    "version": 2
   },
   "file_extension": ".py",
   "mimetype": "text/x-python",
   "name": "python",
   "nbconvert_exporter": "python",
   "pygments_lexer": "ipython2",
   "version": "2.7.6"
  }
 },
 "nbformat": 4,
 "nbformat_minor": 5
}
