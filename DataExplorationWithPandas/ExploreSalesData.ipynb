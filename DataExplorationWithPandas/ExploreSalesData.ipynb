{
 "cells": [
  {
   "cell_type": "code",
   "id": "initial_id",
   "metadata": {
    "collapsed": true,
    "ExecuteTime": {
     "end_time": "2025-03-14T16:57:19.070657Z",
     "start_time": "2025-03-14T16:57:18.541855Z"
    }
   },
   "source": [
    "import pandas as pd\n",
    "excel_file = './copiedSalesData.xlsx'\n",
    "df = pd.read_excel(excel_file)\n",
    "print(type(df))\n",
    "sales_data = 'sales_data.csv'\n",
    "df.to_csv(sales_data, index=False)"
   ],
   "outputs": [
    {
     "name": "stdout",
     "output_type": "stream",
     "text": [
      "<class 'pandas.core.frame.DataFrame'>\n"
     ]
    }
   ],
   "execution_count": 2
  },
  {
   "metadata": {
    "ExecuteTime": {
     "end_time": "2025-03-14T16:57:19.152575Z",
     "start_time": "2025-03-14T16:57:19.136633Z"
    }
   },
   "cell_type": "code",
   "source": "df.head(8)",
   "id": "6ae20e3fc465b6f7",
   "outputs": [
    {
     "data": {
      "text/plain": [
       "   OrderDate   Region  Manager   SalesMan          Item  Units   Unit_price   \\\n",
       "0 2018-01-06     East   Martha  Alexander    Television     95        1198.0   \n",
       "1 2018-01-23  Central  Hermann     Shelli  Home Theater     50         500.0   \n",
       "2 2018-02-09  Central  Hermann       Luis    Television     36        1198.0   \n",
       "3 2018-02-26  Central  Timothy      David    Cell Phone     27         225.0   \n",
       "4 2018-03-15     West  Timothy    Stephen    Television     56        1198.0   \n",
       "5 2018-04-01     East   Martha  Alexander  Home Theater     60         500.0   \n",
       "6 2018-04-18  Central   Martha     Steven    Television     75        1198.0   \n",
       "7 2018-05-05  Central  Hermann       Luis    Television     90        1198.0   \n",
       "\n",
       "   Sale_amt  \n",
       "0  113810.0  \n",
       "1   25000.0  \n",
       "2   43128.0  \n",
       "3    6075.0  \n",
       "4   67088.0  \n",
       "5   30000.0  \n",
       "6   89850.0  \n",
       "7  107820.0  "
      ],
      "text/html": [
       "<div>\n",
       "<style scoped>\n",
       "    .dataframe tbody tr th:only-of-type {\n",
       "        vertical-align: middle;\n",
       "    }\n",
       "\n",
       "    .dataframe tbody tr th {\n",
       "        vertical-align: top;\n",
       "    }\n",
       "\n",
       "    .dataframe thead th {\n",
       "        text-align: right;\n",
       "    }\n",
       "</style>\n",
       "<table border=\"1\" class=\"dataframe\">\n",
       "  <thead>\n",
       "    <tr style=\"text-align: right;\">\n",
       "      <th></th>\n",
       "      <th>OrderDate</th>\n",
       "      <th>Region</th>\n",
       "      <th>Manager</th>\n",
       "      <th>SalesMan</th>\n",
       "      <th>Item</th>\n",
       "      <th>Units</th>\n",
       "      <th>Unit_price</th>\n",
       "      <th>Sale_amt</th>\n",
       "    </tr>\n",
       "  </thead>\n",
       "  <tbody>\n",
       "    <tr>\n",
       "      <th>0</th>\n",
       "      <td>2018-01-06</td>\n",
       "      <td>East</td>\n",
       "      <td>Martha</td>\n",
       "      <td>Alexander</td>\n",
       "      <td>Television</td>\n",
       "      <td>95</td>\n",
       "      <td>1198.0</td>\n",
       "      <td>113810.0</td>\n",
       "    </tr>\n",
       "    <tr>\n",
       "      <th>1</th>\n",
       "      <td>2018-01-23</td>\n",
       "      <td>Central</td>\n",
       "      <td>Hermann</td>\n",
       "      <td>Shelli</td>\n",
       "      <td>Home Theater</td>\n",
       "      <td>50</td>\n",
       "      <td>500.0</td>\n",
       "      <td>25000.0</td>\n",
       "    </tr>\n",
       "    <tr>\n",
       "      <th>2</th>\n",
       "      <td>2018-02-09</td>\n",
       "      <td>Central</td>\n",
       "      <td>Hermann</td>\n",
       "      <td>Luis</td>\n",
       "      <td>Television</td>\n",
       "      <td>36</td>\n",
       "      <td>1198.0</td>\n",
       "      <td>43128.0</td>\n",
       "    </tr>\n",
       "    <tr>\n",
       "      <th>3</th>\n",
       "      <td>2018-02-26</td>\n",
       "      <td>Central</td>\n",
       "      <td>Timothy</td>\n",
       "      <td>David</td>\n",
       "      <td>Cell Phone</td>\n",
       "      <td>27</td>\n",
       "      <td>225.0</td>\n",
       "      <td>6075.0</td>\n",
       "    </tr>\n",
       "    <tr>\n",
       "      <th>4</th>\n",
       "      <td>2018-03-15</td>\n",
       "      <td>West</td>\n",
       "      <td>Timothy</td>\n",
       "      <td>Stephen</td>\n",
       "      <td>Television</td>\n",
       "      <td>56</td>\n",
       "      <td>1198.0</td>\n",
       "      <td>67088.0</td>\n",
       "    </tr>\n",
       "    <tr>\n",
       "      <th>5</th>\n",
       "      <td>2018-04-01</td>\n",
       "      <td>East</td>\n",
       "      <td>Martha</td>\n",
       "      <td>Alexander</td>\n",
       "      <td>Home Theater</td>\n",
       "      <td>60</td>\n",
       "      <td>500.0</td>\n",
       "      <td>30000.0</td>\n",
       "    </tr>\n",
       "    <tr>\n",
       "      <th>6</th>\n",
       "      <td>2018-04-18</td>\n",
       "      <td>Central</td>\n",
       "      <td>Martha</td>\n",
       "      <td>Steven</td>\n",
       "      <td>Television</td>\n",
       "      <td>75</td>\n",
       "      <td>1198.0</td>\n",
       "      <td>89850.0</td>\n",
       "    </tr>\n",
       "    <tr>\n",
       "      <th>7</th>\n",
       "      <td>2018-05-05</td>\n",
       "      <td>Central</td>\n",
       "      <td>Hermann</td>\n",
       "      <td>Luis</td>\n",
       "      <td>Television</td>\n",
       "      <td>90</td>\n",
       "      <td>1198.0</td>\n",
       "      <td>107820.0</td>\n",
       "    </tr>\n",
       "  </tbody>\n",
       "</table>\n",
       "</div>"
      ]
     },
     "execution_count": 3,
     "metadata": {},
     "output_type": "execute_result"
    }
   ],
   "execution_count": 3
  },
  {
   "metadata": {
    "ExecuteTime": {
     "end_time": "2025-03-14T16:57:19.226111Z",
     "start_time": "2025-03-14T16:57:19.219668Z"
    }
   },
   "cell_type": "code",
   "source": "df.tail(10)",
   "id": "b5d0622b642589e5",
   "outputs": [
    {
     "data": {
      "text/plain": [
       "    OrderDate   Region     Manager SalesMan          Item  Units  \\\n",
       "35 2019-08-24     West     Timothy  Stephen          Desk      3   \n",
       "36 2019-09-10  Central     Timothy    David    Television      7   \n",
       "37 2019-09-27     West     Timothy  Stephen    Cell Phone     76   \n",
       "38 2019-10-14     West     Douglas  Michael  Home Theater     57   \n",
       "39 2019-10-31  Central      Martha   Steven    Television     14   \n",
       "40 2003-04-05    South        Kazi    Rifat           GPU      1   \n",
       "41 2019-12-04  Central     Hermann     Luis  Home Theater     94   \n",
       "42 2019-12-21  Central  Martha Mia   Steven  Home Theater     28   \n",
       "43 2003-04-05    South        Pazi    Rifat           GPU      1   \n",
       "44 2003-04-05    South        Kazi    Rifat           GPU      1   \n",
       "\n",
       "     Unit_price   Sale_amt  \n",
       "35         125.0     375.0  \n",
       "36        1198.0    8386.0  \n",
       "37         225.0   17100.0  \n",
       "38         500.0   28500.0  \n",
       "39        1198.0   16772.0  \n",
       "40       45000.0   45000.0  \n",
       "41         500.0   47000.0  \n",
       "42         500.0   14000.0  \n",
       "43       45000.0   45000.0  \n",
       "44       45000.0   45000.0  "
      ],
      "text/html": [
       "<div>\n",
       "<style scoped>\n",
       "    .dataframe tbody tr th:only-of-type {\n",
       "        vertical-align: middle;\n",
       "    }\n",
       "\n",
       "    .dataframe tbody tr th {\n",
       "        vertical-align: top;\n",
       "    }\n",
       "\n",
       "    .dataframe thead th {\n",
       "        text-align: right;\n",
       "    }\n",
       "</style>\n",
       "<table border=\"1\" class=\"dataframe\">\n",
       "  <thead>\n",
       "    <tr style=\"text-align: right;\">\n",
       "      <th></th>\n",
       "      <th>OrderDate</th>\n",
       "      <th>Region</th>\n",
       "      <th>Manager</th>\n",
       "      <th>SalesMan</th>\n",
       "      <th>Item</th>\n",
       "      <th>Units</th>\n",
       "      <th>Unit_price</th>\n",
       "      <th>Sale_amt</th>\n",
       "    </tr>\n",
       "  </thead>\n",
       "  <tbody>\n",
       "    <tr>\n",
       "      <th>35</th>\n",
       "      <td>2019-08-24</td>\n",
       "      <td>West</td>\n",
       "      <td>Timothy</td>\n",
       "      <td>Stephen</td>\n",
       "      <td>Desk</td>\n",
       "      <td>3</td>\n",
       "      <td>125.0</td>\n",
       "      <td>375.0</td>\n",
       "    </tr>\n",
       "    <tr>\n",
       "      <th>36</th>\n",
       "      <td>2019-09-10</td>\n",
       "      <td>Central</td>\n",
       "      <td>Timothy</td>\n",
       "      <td>David</td>\n",
       "      <td>Television</td>\n",
       "      <td>7</td>\n",
       "      <td>1198.0</td>\n",
       "      <td>8386.0</td>\n",
       "    </tr>\n",
       "    <tr>\n",
       "      <th>37</th>\n",
       "      <td>2019-09-27</td>\n",
       "      <td>West</td>\n",
       "      <td>Timothy</td>\n",
       "      <td>Stephen</td>\n",
       "      <td>Cell Phone</td>\n",
       "      <td>76</td>\n",
       "      <td>225.0</td>\n",
       "      <td>17100.0</td>\n",
       "    </tr>\n",
       "    <tr>\n",
       "      <th>38</th>\n",
       "      <td>2019-10-14</td>\n",
       "      <td>West</td>\n",
       "      <td>Douglas</td>\n",
       "      <td>Michael</td>\n",
       "      <td>Home Theater</td>\n",
       "      <td>57</td>\n",
       "      <td>500.0</td>\n",
       "      <td>28500.0</td>\n",
       "    </tr>\n",
       "    <tr>\n",
       "      <th>39</th>\n",
       "      <td>2019-10-31</td>\n",
       "      <td>Central</td>\n",
       "      <td>Martha</td>\n",
       "      <td>Steven</td>\n",
       "      <td>Television</td>\n",
       "      <td>14</td>\n",
       "      <td>1198.0</td>\n",
       "      <td>16772.0</td>\n",
       "    </tr>\n",
       "    <tr>\n",
       "      <th>40</th>\n",
       "      <td>2003-04-05</td>\n",
       "      <td>South</td>\n",
       "      <td>Kazi</td>\n",
       "      <td>Rifat</td>\n",
       "      <td>GPU</td>\n",
       "      <td>1</td>\n",
       "      <td>45000.0</td>\n",
       "      <td>45000.0</td>\n",
       "    </tr>\n",
       "    <tr>\n",
       "      <th>41</th>\n",
       "      <td>2019-12-04</td>\n",
       "      <td>Central</td>\n",
       "      <td>Hermann</td>\n",
       "      <td>Luis</td>\n",
       "      <td>Home Theater</td>\n",
       "      <td>94</td>\n",
       "      <td>500.0</td>\n",
       "      <td>47000.0</td>\n",
       "    </tr>\n",
       "    <tr>\n",
       "      <th>42</th>\n",
       "      <td>2019-12-21</td>\n",
       "      <td>Central</td>\n",
       "      <td>Martha Mia</td>\n",
       "      <td>Steven</td>\n",
       "      <td>Home Theater</td>\n",
       "      <td>28</td>\n",
       "      <td>500.0</td>\n",
       "      <td>14000.0</td>\n",
       "    </tr>\n",
       "    <tr>\n",
       "      <th>43</th>\n",
       "      <td>2003-04-05</td>\n",
       "      <td>South</td>\n",
       "      <td>Pazi</td>\n",
       "      <td>Rifat</td>\n",
       "      <td>GPU</td>\n",
       "      <td>1</td>\n",
       "      <td>45000.0</td>\n",
       "      <td>45000.0</td>\n",
       "    </tr>\n",
       "    <tr>\n",
       "      <th>44</th>\n",
       "      <td>2003-04-05</td>\n",
       "      <td>South</td>\n",
       "      <td>Kazi</td>\n",
       "      <td>Rifat</td>\n",
       "      <td>GPU</td>\n",
       "      <td>1</td>\n",
       "      <td>45000.0</td>\n",
       "      <td>45000.0</td>\n",
       "    </tr>\n",
       "  </tbody>\n",
       "</table>\n",
       "</div>"
      ]
     },
     "execution_count": 4,
     "metadata": {},
     "output_type": "execute_result"
    }
   ],
   "execution_count": 4
  },
  {
   "metadata": {
    "ExecuteTime": {
     "end_time": "2025-03-14T16:57:19.271555Z",
     "start_time": "2025-03-14T16:57:19.267999Z"
    }
   },
   "cell_type": "code",
   "source": "df.dtypes",
   "id": "7d7d84e6e9ccef7c",
   "outputs": [
    {
     "data": {
      "text/plain": [
       "OrderDate       datetime64[ns]\n",
       "Region                  object\n",
       "Manager                 object\n",
       "SalesMan                object\n",
       "Item                    object\n",
       "Units                    int64\n",
       " Unit_price            float64\n",
       "Sale_amt               float64\n",
       "dtype: object"
      ]
     },
     "execution_count": 5,
     "metadata": {},
     "output_type": "execute_result"
    }
   ],
   "execution_count": 5
  },
  {
   "metadata": {
    "ExecuteTime": {
     "end_time": "2025-03-14T17:53:31.428051Z",
     "start_time": "2025-03-14T17:53:31.423437Z"
    }
   },
   "cell_type": "code",
   "source": "    df.nunique()",
   "id": "1e573510b7b3464a",
   "outputs": [
    {
     "data": {
      "text/plain": [
       "OrderDate       43\n",
       "Region           4\n",
       "Manager          7\n",
       "SalesMan        12\n",
       "Item             6\n",
       "Units           37\n",
       " Unit_price      6\n",
       "Sale_amt        40\n",
       "dtype: int64"
      ]
     },
     "execution_count": 11,
     "metadata": {},
     "output_type": "execute_result"
    }
   ],
   "execution_count": 11
  },
  {
   "metadata": {
    "ExecuteTime": {
     "end_time": "2025-03-14T17:39:57.588843Z",
     "start_time": "2025-03-14T17:39:57.584942Z"
    }
   },
   "cell_type": "code",
   "source": [
    "df['Region'].nunique()\n",
    "df['Region'].unique()\n",
    "df['Region'].value_counts()\n"
   ],
   "id": "afdef0beb7d63d7b",
   "outputs": [
    {
     "data": {
      "text/plain": [
       "Region\n",
       "Central    23\n",
       "East       13\n",
       "West        6\n",
       "South       3\n",
       "Name: count, dtype: int64"
      ]
     },
     "execution_count": 8,
     "metadata": {},
     "output_type": "execute_result"
    }
   ],
   "execution_count": 8
  },
  {
   "metadata": {
    "ExecuteTime": {
     "end_time": "2025-03-14T17:54:55.883433Z",
     "start_time": "2025-03-14T17:54:55.879585Z"
    }
   },
   "cell_type": "code",
   "source": "df.isnull().sum()",
   "id": "903fa103cf282ed",
   "outputs": [
    {
     "data": {
      "text/plain": [
       "OrderDate       0\n",
       "Region          0\n",
       "Manager         0\n",
       "SalesMan        0\n",
       "Item            0\n",
       "Units           0\n",
       " Unit_price     0\n",
       "Sale_amt        0\n",
       "dtype: int64"
      ]
     },
     "execution_count": 12,
     "metadata": {},
     "output_type": "execute_result"
    }
   ],
   "execution_count": 12
  }
 ],
 "metadata": {
  "kernelspec": {
   "display_name": "Python [conda env:base] *",
   "language": "python",
   "name": "conda-base-py"
  },
  "language_info": {
   "codemirror_mode": {
    "name": "ipython",
    "version": 2
   },
   "file_extension": ".py",
   "mimetype": "text/x-python",
   "name": "python",
   "nbconvert_exporter": "python",
   "pygments_lexer": "ipython2",
   "version": "2.7.6"
  }
 },
 "nbformat": 4,
 "nbformat_minor": 5
}
