print("test")


print("Hello World")


print("Hello World of")





print("Hello World of Python")


!neofetch
